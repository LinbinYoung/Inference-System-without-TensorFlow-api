{
 "cells": [
  {
   "cell_type": "code",
   "execution_count": 1,
   "metadata": {},
   "outputs": [],
   "source": [
    "from tensorflow.contrib.learn.python.learn.datasets.mnist import read_data_sets\n",
    "import tensorflow as tf"
   ]
  },
  {
   "cell_type": "code",
   "execution_count": 2,
   "metadata": {},
   "outputs": [
    {
     "name": "stdout",
     "output_type": "stream",
     "text": [
      "WARNING:tensorflow:From <ipython-input-2-dd613c10d58d>:1: read_data_sets (from tensorflow.contrib.learn.python.learn.datasets.mnist) is deprecated and will be removed in a future version.\n",
      "Instructions for updating:\n",
      "Please use alternatives such as official/mnist/dataset.py from tensorflow/models.\n",
      "WARNING:tensorflow:From /home/linbin/.local/lib/python2.7/site-packages/tensorflow/contrib/learn/python/learn/datasets/mnist.py:260: maybe_download (from tensorflow.contrib.learn.python.learn.datasets.base) is deprecated and will be removed in a future version.\n",
      "Instructions for updating:\n",
      "Please write your own downloading logic.\n",
      "WARNING:tensorflow:From /home/linbin/.local/lib/python2.7/site-packages/tensorflow/contrib/learn/python/learn/datasets/mnist.py:262: extract_images (from tensorflow.contrib.learn.python.learn.datasets.mnist) is deprecated and will be removed in a future version.\n",
      "Instructions for updating:\n",
      "Please use tf.data to implement this functionality.\n",
      "Extracting ./new_dataset/train-images-idx3-ubyte.gz\n",
      "WARNING:tensorflow:From /home/linbin/.local/lib/python2.7/site-packages/tensorflow/contrib/learn/python/learn/datasets/mnist.py:267: extract_labels (from tensorflow.contrib.learn.python.learn.datasets.mnist) is deprecated and will be removed in a future version.\n",
      "Instructions for updating:\n",
      "Please use tf.data to implement this functionality.\n",
      "Extracting ./new_dataset/train-labels-idx1-ubyte.gz\n",
      "WARNING:tensorflow:From /home/linbin/.local/lib/python2.7/site-packages/tensorflow/contrib/learn/python/learn/datasets/mnist.py:110: dense_to_one_hot (from tensorflow.contrib.learn.python.learn.datasets.mnist) is deprecated and will be removed in a future version.\n",
      "Instructions for updating:\n",
      "Please use tf.one_hot on tensors.\n",
      "Extracting ./new_dataset/t10k-images-idx3-ubyte.gz\n",
      "Extracting ./new_dataset/t10k-labels-idx1-ubyte.gz\n",
      "WARNING:tensorflow:From /home/linbin/.local/lib/python2.7/site-packages/tensorflow/contrib/learn/python/learn/datasets/mnist.py:290: __init__ (from tensorflow.contrib.learn.python.learn.datasets.mnist) is deprecated and will be removed in a future version.\n",
      "Instructions for updating:\n",
      "Please use alternatives such as official/mnist/dataset.py from tensorflow/models.\n"
     ]
    }
   ],
   "source": [
    "mnist = read_data_sets(\"./new_dataset\", one_hot=True, reshape=False, validation_size=0)"
   ]
  },
  {
   "cell_type": "code",
   "execution_count": 3,
   "metadata": {},
   "outputs": [],
   "source": [
    "CKPT_DIR = 'new_ckpt_dir_3'"
   ]
  },
  {
   "cell_type": "code",
   "execution_count": 4,
   "metadata": {},
   "outputs": [],
   "source": [
    "class Network3(object):\n",
    "    def __init__(self):\n",
    "        self.global_step = tf.Variable(0,trainable = False)\n",
    "        self.x = tf.placeholder(tf.float32, [None, 28, 28, 1], name = \"x_input\")\n",
    "        self.label = tf.placeholder(tf.float32, [None, 10], name = \"y_input\")\n",
    "        self.lr = 0.003\n",
    "        self.W1 = tf.Variable(tf.truncated_normal([5, 5, 1, 4], stddev=0.1))   # 5x5 patch, 1 input channel, K output channels\n",
    "        self.B1 = tf.Variable(tf.ones([4])/10)\n",
    "        self.W2 = tf.Variable(tf.truncated_normal([5, 5, 4, 8], stddev=0.1))\n",
    "        self.B2 = tf.Variable(tf.ones([8])/10)\n",
    "        self.W3 = tf.Variable(tf.truncated_normal([4, 4, 8, 12], stddev=0.1))\n",
    "        self.B3 = tf.Variable(tf.ones([12])/10)\n",
    "        self.W4 = tf.Variable(tf.truncated_normal([7 * 7 * 12, 200], stddev=0.1))\n",
    "        self.B4 = tf.Variable(tf.ones([200])/10)\n",
    "        self.W5 = tf.Variable(tf.truncated_normal([200, 10], stddev=0.1))\n",
    "        self.B5 = tf.Variable(tf.ones([10])/10)\n",
    "        stride = 1  # output is 28x28\n",
    "        self.Y1 = tf.nn.relu(tf.nn.conv2d(self.x, self.W1, strides=[1, stride, stride, 1], padding='SAME') + self.B1)\n",
    "        stride = 2  # output is 14x14\n",
    "        self.Y2 = tf.nn.relu(tf.nn.conv2d(self.Y1, self.W2, strides=[1, stride, stride, 1], padding='SAME') + self.B2)\n",
    "        stride = 2  # output is 7x7\n",
    "        self.Y3 = tf.nn.relu(tf.nn.conv2d(self.Y2, self.W3, strides=[1, stride, stride, 1], padding='SAME') + self.B3)\n",
    "        # reshape the output from the third convolution for the fully connected layer\n",
    "        self.YY = tf.reshape(self.Y3, shape=[-1, 7 * 7 * 12])\n",
    "        self.Y4 = tf.nn.relu(tf.matmul(self.YY, self.W4) + self.B4)\n",
    "        self.Ylogits = tf.matmul(self.Y4, self.W5) + self.B5\n",
    "        self.predict = tf.nn.softmax(self.Ylogits, name = \"z_output\")\n",
    "        self.cross_entropy = tf.nn.softmax_cross_entropy_with_logits(logits = self.Ylogits, labels = self.label)\n",
    "        self.loss = tf.reduce_mean(self.cross_entropy)*100\n",
    "        # accuracy of the trained model, between 0 (worst) and 1 (best)\n",
    "        self.predict = tf.equal(tf.argmax(self.predict, 1), tf.argmax(self.label, 1))\n",
    "        self.accuracy = tf.reduce_mean(tf.cast(self.predict, tf.float32))\n",
    "        self.train = tf.train.AdamOptimizer(self.lr).minimize(self.cross_entropy, global_step = self.global_step)"
   ]
  },
  {
   "cell_type": "code",
   "execution_count": 5,
   "metadata": {},
   "outputs": [],
   "source": [
    "class Train(object):\n",
    "    \n",
    "    def __init__(self):\n",
    "        self.net = Network3()\n",
    "        self.sess = tf.Session()\n",
    "        self.sess.run(tf.global_variables_initializer())\n",
    "        \n",
    "    def train(self):\n",
    "        batch_size = 64\n",
    "        train_step = 10000\n",
    "        step = 0\n",
    "        #Save Model every 1000 steps\n",
    "        save_interval = 1000\n",
    "        saver = tf.train.Saver(max_to_keep = 10)\n",
    "        ckpt = tf.train.get_checkpoint_state(CKPT_DIR)\n",
    "        if ckpt and ckpt.get_checkpoint_state(CKPT_DIR):\n",
    "            saver.restore(self.sess,ckpt.model_checkpoint_path)\n",
    "            step = self.sess.run(self.net.global_step)\n",
    "            print('continue from')\n",
    "            print('  -> Minibatch update : ',step)\n",
    "        while step < train_step:\n",
    "            x, label = mnist.train.next_batch(batch_size)\n",
    "            _,loss = self.sess.run([self.net.train,self.net.loss], feed_dict = {self.net.x: x, self.net.label:label})\n",
    "            step = self.sess.run(self.net.global_step)\n",
    "            if step % 1000 == 0:\n",
    "                print('No %6d step, current loss: %.3f'%(step,loss))\n",
    "            if step % save_interval == 0:\n",
    "                saver.save(self.sess,CKPT_DIR + '/model',global_step = step)\n",
    "    \n",
    "    def calculate_accuracy(self):\n",
    "        test_x = self.data.test.images\n",
    "        test_label = self.data.test.labels\n",
    "        acc = self.sess.run(self.net.accuracy,feed_dict = {self.net.x:test_x,self.net.label:test_label})\n",
    "        print(\"acc: %.3f, Number of pic test: %d \" % (acc, len(test_label)))"
   ]
  },
  {
   "cell_type": "code",
   "execution_count": 6,
   "metadata": {},
   "outputs": [
    {
     "name": "stdout",
     "output_type": "stream",
     "text": [
      "WARNING:tensorflow:From <ipython-input-4-4df96f65ef5f>:28: softmax_cross_entropy_with_logits (from tensorflow.python.ops.nn_ops) is deprecated and will be removed in a future version.\n",
      "Instructions for updating:\n",
      "\n",
      "Future major versions of TensorFlow will allow gradients to flow\n",
      "into the labels input on backprop by default.\n",
      "\n",
      "See `tf.nn.softmax_cross_entropy_with_logits_v2`.\n",
      "\n",
      "No   1000 step, current loss: 12.968\n",
      "No   2000 step, current loss: 0.396\n",
      "No   3000 step, current loss: 4.282\n",
      "No   4000 step, current loss: 5.561\n",
      "No   5000 step, current loss: 3.835\n",
      "No   6000 step, current loss: 0.304\n",
      "No   7000 step, current loss: 0.073\n",
      "No   8000 step, current loss: 2.808\n",
      "No   9000 step, current loss: 13.186\n",
      "No  10000 step, current loss: 1.994\n"
     ]
    }
   ],
   "source": [
    "if __name__ == '__main__':\n",
    "    model = Train()\n",
    "    model.train()\n",
    "#     model.calculate_accuracy()"
   ]
  }
 ],
 "metadata": {
  "kernelspec": {
   "display_name": "Python 2",
   "language": "python",
   "name": "python2"
  },
  "language_info": {
   "codemirror_mode": {
    "name": "ipython",
    "version": 2
   },
   "file_extension": ".py",
   "mimetype": "text/x-python",
   "name": "python",
   "nbconvert_exporter": "python",
   "pygments_lexer": "ipython2",
   "version": "2.7.16"
  }
 },
 "nbformat": 4,
 "nbformat_minor": 2
}
