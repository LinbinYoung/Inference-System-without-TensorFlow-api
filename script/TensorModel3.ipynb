{
 "cells": [
  {
   "cell_type": "code",
   "execution_count": 1,
   "metadata": {},
   "outputs": [
    {
     "name": "stderr",
     "output_type": "stream",
     "text": [
      "/Users/linbinyang/opt/anaconda3/envs/tensorflow/lib/python3.7/site-packages/tensorflow/python/framework/dtypes.py:516: FutureWarning: Passing (type, 1) or '1type' as a synonym of type is deprecated; in a future version of numpy, it will be understood as (type, (1,)) / '(1,)type'.\n",
      "  _np_qint8 = np.dtype([(\"qint8\", np.int8, 1)])\n",
      "/Users/linbinyang/opt/anaconda3/envs/tensorflow/lib/python3.7/site-packages/tensorflow/python/framework/dtypes.py:517: FutureWarning: Passing (type, 1) or '1type' as a synonym of type is deprecated; in a future version of numpy, it will be understood as (type, (1,)) / '(1,)type'.\n",
      "  _np_quint8 = np.dtype([(\"quint8\", np.uint8, 1)])\n",
      "/Users/linbinyang/opt/anaconda3/envs/tensorflow/lib/python3.7/site-packages/tensorflow/python/framework/dtypes.py:518: FutureWarning: Passing (type, 1) or '1type' as a synonym of type is deprecated; in a future version of numpy, it will be understood as (type, (1,)) / '(1,)type'.\n",
      "  _np_qint16 = np.dtype([(\"qint16\", np.int16, 1)])\n",
      "/Users/linbinyang/opt/anaconda3/envs/tensorflow/lib/python3.7/site-packages/tensorflow/python/framework/dtypes.py:519: FutureWarning: Passing (type, 1) or '1type' as a synonym of type is deprecated; in a future version of numpy, it will be understood as (type, (1,)) / '(1,)type'.\n",
      "  _np_quint16 = np.dtype([(\"quint16\", np.uint16, 1)])\n",
      "/Users/linbinyang/opt/anaconda3/envs/tensorflow/lib/python3.7/site-packages/tensorflow/python/framework/dtypes.py:520: FutureWarning: Passing (type, 1) or '1type' as a synonym of type is deprecated; in a future version of numpy, it will be understood as (type, (1,)) / '(1,)type'.\n",
      "  _np_qint32 = np.dtype([(\"qint32\", np.int32, 1)])\n",
      "/Users/linbinyang/opt/anaconda3/envs/tensorflow/lib/python3.7/site-packages/tensorflow/python/framework/dtypes.py:525: FutureWarning: Passing (type, 1) or '1type' as a synonym of type is deprecated; in a future version of numpy, it will be understood as (type, (1,)) / '(1,)type'.\n",
      "  np_resource = np.dtype([(\"resource\", np.ubyte, 1)])\n",
      "/Users/linbinyang/opt/anaconda3/envs/tensorflow/lib/python3.7/site-packages/tensorboard/compat/tensorflow_stub/dtypes.py:541: FutureWarning: Passing (type, 1) or '1type' as a synonym of type is deprecated; in a future version of numpy, it will be understood as (type, (1,)) / '(1,)type'.\n",
      "  _np_qint8 = np.dtype([(\"qint8\", np.int8, 1)])\n",
      "/Users/linbinyang/opt/anaconda3/envs/tensorflow/lib/python3.7/site-packages/tensorboard/compat/tensorflow_stub/dtypes.py:542: FutureWarning: Passing (type, 1) or '1type' as a synonym of type is deprecated; in a future version of numpy, it will be understood as (type, (1,)) / '(1,)type'.\n",
      "  _np_quint8 = np.dtype([(\"quint8\", np.uint8, 1)])\n",
      "/Users/linbinyang/opt/anaconda3/envs/tensorflow/lib/python3.7/site-packages/tensorboard/compat/tensorflow_stub/dtypes.py:543: FutureWarning: Passing (type, 1) or '1type' as a synonym of type is deprecated; in a future version of numpy, it will be understood as (type, (1,)) / '(1,)type'.\n",
      "  _np_qint16 = np.dtype([(\"qint16\", np.int16, 1)])\n",
      "/Users/linbinyang/opt/anaconda3/envs/tensorflow/lib/python3.7/site-packages/tensorboard/compat/tensorflow_stub/dtypes.py:544: FutureWarning: Passing (type, 1) or '1type' as a synonym of type is deprecated; in a future version of numpy, it will be understood as (type, (1,)) / '(1,)type'.\n",
      "  _np_quint16 = np.dtype([(\"quint16\", np.uint16, 1)])\n",
      "/Users/linbinyang/opt/anaconda3/envs/tensorflow/lib/python3.7/site-packages/tensorboard/compat/tensorflow_stub/dtypes.py:545: FutureWarning: Passing (type, 1) or '1type' as a synonym of type is deprecated; in a future version of numpy, it will be understood as (type, (1,)) / '(1,)type'.\n",
      "  _np_qint32 = np.dtype([(\"qint32\", np.int32, 1)])\n",
      "/Users/linbinyang/opt/anaconda3/envs/tensorflow/lib/python3.7/site-packages/tensorboard/compat/tensorflow_stub/dtypes.py:550: FutureWarning: Passing (type, 1) or '1type' as a synonym of type is deprecated; in a future version of numpy, it will be understood as (type, (1,)) / '(1,)type'.\n",
      "  np_resource = np.dtype([(\"resource\", np.ubyte, 1)])\n"
     ]
    }
   ],
   "source": [
    "from tensorflow.contrib.learn.python.learn.datasets.mnist import read_data_sets\n",
    "import tensorflow as tf"
   ]
  },
  {
   "cell_type": "code",
   "execution_count": 2,
   "metadata": {},
   "outputs": [
    {
     "name": "stdout",
     "output_type": "stream",
     "text": [
      "WARNING:tensorflow:From <ipython-input-2-b29b0e83318f>:1: read_data_sets (from tensorflow.contrib.learn.python.learn.datasets.mnist) is deprecated and will be removed in a future version.\n",
      "Instructions for updating:\n",
      "Please use alternatives such as official/mnist/dataset.py from tensorflow/models.\n",
      "WARNING:tensorflow:From /Users/linbinyang/opt/anaconda3/envs/tensorflow/lib/python3.7/site-packages/tensorflow/contrib/learn/python/learn/datasets/mnist.py:260: maybe_download (from tensorflow.contrib.learn.python.learn.datasets.base) is deprecated and will be removed in a future version.\n",
      "Instructions for updating:\n",
      "Please write your own downloading logic.\n",
      "WARNING:tensorflow:From /Users/linbinyang/opt/anaconda3/envs/tensorflow/lib/python3.7/site-packages/tensorflow/contrib/learn/python/learn/datasets/mnist.py:262: extract_images (from tensorflow.contrib.learn.python.learn.datasets.mnist) is deprecated and will be removed in a future version.\n",
      "Instructions for updating:\n",
      "Please use tf.data to implement this functionality.\n",
      "Extracting ./dataset/train-images-idx3-ubyte.gz\n",
      "WARNING:tensorflow:From /Users/linbinyang/opt/anaconda3/envs/tensorflow/lib/python3.7/site-packages/tensorflow/contrib/learn/python/learn/datasets/mnist.py:267: extract_labels (from tensorflow.contrib.learn.python.learn.datasets.mnist) is deprecated and will be removed in a future version.\n",
      "Instructions for updating:\n",
      "Please use tf.data to implement this functionality.\n",
      "Extracting ./dataset/train-labels-idx1-ubyte.gz\n",
      "WARNING:tensorflow:From /Users/linbinyang/opt/anaconda3/envs/tensorflow/lib/python3.7/site-packages/tensorflow/contrib/learn/python/learn/datasets/mnist.py:110: dense_to_one_hot (from tensorflow.contrib.learn.python.learn.datasets.mnist) is deprecated and will be removed in a future version.\n",
      "Instructions for updating:\n",
      "Please use tf.one_hot on tensors.\n",
      "Extracting ./dataset/t10k-images-idx3-ubyte.gz\n",
      "Extracting ./dataset/t10k-labels-idx1-ubyte.gz\n",
      "WARNING:tensorflow:From /Users/linbinyang/opt/anaconda3/envs/tensorflow/lib/python3.7/site-packages/tensorflow/contrib/learn/python/learn/datasets/mnist.py:290: DataSet.__init__ (from tensorflow.contrib.learn.python.learn.datasets.mnist) is deprecated and will be removed in a future version.\n",
      "Instructions for updating:\n",
      "Please use alternatives such as official/mnist/dataset.py from tensorflow/models.\n"
     ]
    }
   ],
   "source": [
    "mnist = read_data_sets(\"./dataset\", one_hot=True, reshape=False, validation_size=0)"
   ]
  },
  {
   "cell_type": "code",
   "execution_count": 4,
   "metadata": {},
   "outputs": [],
   "source": [
    "CKPT_DIR = 'new_ckpt_dir_3'"
   ]
  },
  {
   "cell_type": "code",
   "execution_count": 5,
   "metadata": {},
   "outputs": [],
   "source": [
    "class Network3(object):\n",
    "    def __init__(self):\n",
    "        self.global_step = tf.Variable(0,trainable = False)\n",
    "        self.x = tf.placeholder(tf.float32, [None, 28, 28, 1], name = \"x_input\")\n",
    "        self.label = tf.placeholder(tf.float32, [None, 10], name = \"y_input\")\n",
    "        self.lr = 0.003\n",
    "        self.W1 = tf.Variable(tf.truncated_normal([5, 5, 1, 4], stddev=0.1))   # 5x5 patch, 1 input channel, K output channels\n",
    "        self.B1 = tf.Variable(tf.ones([4])/10)\n",
    "        self.W2 = tf.Variable(tf.truncated_normal([5, 5, 4, 8], stddev=0.1))\n",
    "        self.B2 = tf.Variable(tf.ones([8])/10)\n",
    "        self.W3 = tf.Variable(tf.truncated_normal([4, 4, 8, 12], stddev=0.1))\n",
    "        self.B3 = tf.Variable(tf.ones([12])/10)\n",
    "        self.W4 = tf.Variable(tf.truncated_normal([7 * 7 * 12, 200], stddev=0.1))\n",
    "        self.B4 = tf.Variable(tf.ones([200])/10)\n",
    "        self.W5 = tf.Variable(tf.truncated_normal([200, 10], stddev=0.1))\n",
    "        self.B5 = tf.Variable(tf.ones([10])/10)\n",
    "        stride = 1  # output is 28x28\n",
    "        self.Y1 = tf.nn.relu(tf.nn.conv2d(self.x, self.W1, strides=[1, stride, stride, 1], padding='SAME') + self.B1)\n",
    "        stride = 2  # output is 14x14\n",
    "        self.Y2 = tf.nn.relu(tf.nn.conv2d(self.Y1, self.W2, strides=[1, stride, stride, 1], padding='SAME') + self.B2)\n",
    "        stride = 2  # output is 7x7\n",
    "        self.Y3 = tf.nn.relu(tf.nn.conv2d(self.Y2, self.W3, strides=[1, stride, stride, 1], padding='SAME') + self.B3)\n",
    "        # reshape the output from the third convolution for the fully connected layer\n",
    "        self.YY = tf.reshape(self.Y3, shape=[-1, 7 * 7 * 12])\n",
    "        self.Y4 = tf.nn.relu(tf.matmul(self.YY, self.W4) + self.B4)\n",
    "        self.Ylogits = tf.matmul(self.Y4, self.W5) + self.B5\n",
    "        self.predict = tf.nn.softmax(self.Ylogits, name = \"z_output\")\n",
    "        self.cross_entropy = tf.nn.softmax_cross_entropy_with_logits(logits = self.Ylogits, labels = self.label)\n",
    "        self.loss = tf.reduce_mean(self.cross_entropy)*100\n",
    "        # accuracy of the trained model, between 0 (worst) and 1 (best)\n",
    "        self.predict = tf.equal(tf.argmax(self.predict, 1), tf.argmax(self.label, 1))\n",
    "        self.accuracy = tf.reduce_mean(tf.cast(self.predict, tf.float32))\n",
    "        self.train = tf.train.AdamOptimizer(self.lr).minimize(self.cross_entropy, global_step = self.global_step)"
   ]
  },
  {
   "cell_type": "code",
   "execution_count": 6,
   "metadata": {},
   "outputs": [],
   "source": [
    "class Train(object):\n",
    "    \n",
    "    def __init__(self):\n",
    "        self.net = Network3()\n",
    "        self.sess = tf.Session()\n",
    "        self.sess.run(tf.global_variables_initializer())\n",
    "        self.CKPT_DIR = CKPT_DIR\n",
    "        \n",
    "    def train(self):\n",
    "        batch_size = 64\n",
    "        train_step = 10000\n",
    "        step = 0\n",
    "        #Save Model every 1000 steps\n",
    "        save_interval = 10000\n",
    "        saver = tf.train.Saver(max_to_keep = 0)\n",
    "        ckpt = tf.train.get_checkpoint_state(CKPT_DIR)\n",
    "        if ckpt and ckpt.get_checkpoint_state(CKPT_DIR):\n",
    "            saver.restore(self.sess,ckpt.model_checkpoint_path)\n",
    "            step = self.sess.run(self.net.global_step)\n",
    "            print('continue from')\n",
    "            print('  -> Minibatch update : ',step)\n",
    "        while step < train_step:\n",
    "            x, label = mnist.train.next_batch(batch_size)\n",
    "            _,loss = self.sess.run([self.net.train,self.net.loss], feed_dict = {self.net.x: x, self.net.label:label})\n",
    "            step = self.sess.run(self.net.global_step)\n",
    "            if step % 1000 == 0:\n",
    "                print('No %6d step, current loss: %.3f'%(step,loss))\n",
    "            if step % save_interval == 0:\n",
    "                saver.save(self.sess,CKPT_DIR + '/model',global_step = step)\n",
    "    \n",
    "    def calculate_accuracy(self):\n",
    "        test_x = mnist.train.images\n",
    "        test_label = mnist.train.labels\n",
    "        acc = self.sess.run(self.net.accuracy,feed_dict = {self.net.x:test_x,self.net.label:test_label})\n",
    "        print(\"acc: %.3f, Number of pic test: %d \" % (acc, len(test_label)))"
   ]
  },
  {
   "cell_type": "code",
   "execution_count": 7,
   "metadata": {},
   "outputs": [
    {
     "name": "stdout",
     "output_type": "stream",
     "text": [
      "WARNING:tensorflow:From <ipython-input-5-2c130a3aeef7>:28: softmax_cross_entropy_with_logits (from tensorflow.python.ops.nn_ops) is deprecated and will be removed in a future version.\n",
      "Instructions for updating:\n",
      "\n",
      "Future major versions of TensorFlow will allow gradients to flow\n",
      "into the labels input on backprop by default.\n",
      "\n",
      "See `tf.nn.softmax_cross_entropy_with_logits_v2`.\n",
      "\n",
      "No   1000 step, current loss: 3.665\n",
      "No   2000 step, current loss: 10.648\n",
      "No   3000 step, current loss: 4.986\n",
      "No   4000 step, current loss: 7.531\n",
      "No   5000 step, current loss: 0.071\n",
      "No   6000 step, current loss: 1.419\n",
      "No   7000 step, current loss: 0.136\n",
      "No   8000 step, current loss: 0.007\n",
      "No   9000 step, current loss: 0.089\n",
      "No  10000 step, current loss: 0.070\n",
      "INFO:tensorflow:new_ckpt_dir_3/model-10000 is not in all_model_checkpoint_paths. Manually adding it.\n",
      "acc: 0.997, Number of pic test: 60000 \n"
     ]
    }
   ],
   "source": [
    "if __name__ == '__main__':\n",
    "    model = Train()\n",
    "    model.train()\n",
    "    model.calculate_accuracy()"
   ]
  },
  {
   "cell_type": "code",
   "execution_count": 8,
   "metadata": {},
   "outputs": [],
   "source": [
    "import numpy as np\n",
    "y, label = mnist.train.next_batch(32)"
   ]
  },
  {
   "cell_type": "code",
   "execution_count": 9,
   "metadata": {},
   "outputs": [],
   "source": [
    "def model_restore_inference():\n",
    "    sess = tf.Session()\n",
    "    saver = tf.train.import_meta_graph('./new_ckpt_dir_3/model-10000.meta')\n",
    "    saver.restore(sess, tf.train.latest_checkpoint('./new_ckpt_dir_3'))\n",
    "    input_x = sess.graph.get_tensor_by_name('x_input:0')\n",
    "    logits = sess.graph.get_tensor_by_name('z_output:0')\n",
    "    ret = sess.run(logits, {input_x:y})\n",
    "    print (ret.tolist())\n",
    "    final_res = np.argmax(ret.tolist(), 1)\n",
    "    print (final_res)"
   ]
  },
  {
   "cell_type": "code",
   "execution_count": 10,
   "metadata": {},
   "outputs": [
    {
     "name": "stdout",
     "output_type": "stream",
     "text": [
      "WARNING:tensorflow:From /Users/linbinyang/opt/anaconda3/envs/tensorflow/lib/python3.7/site-packages/tensorflow/python/training/saver.py:1276: checkpoint_exists (from tensorflow.python.training.checkpoint_management) is deprecated and will be removed in a future version.\n",
      "Instructions for updating:\n",
      "Use standard file APIs to check for files with this prefix.\n",
      "INFO:tensorflow:Restoring parameters from ./new_ckpt_dir_3/model-10000\n",
      "[[1.0, 8.685638769876874e-22, 5.1947792042376234e-14, 4.9062332061786216e-17, 2.5662080950494686e-21, 7.945626838015597e-20, 2.4465341777072996e-15, 7.559778583365287e-16, 4.23344695345447e-14, 2.34717734137746e-09], [2.501010042918776e-15, 4.381198868994407e-21, 1.3664994436859215e-22, 1.2814010025377234e-25, 4.766344391450594e-17, 3.2966294005288305e-17, 1.0, 1.608597857087253e-26, 1.128747370483812e-16, 2.0269140010168406e-26], [3.8362623624652037e-13, 9.839298192664773e-15, 0.9999350309371948, 9.59910262388064e-10, 1.8024191432147588e-16, 1.7118948792571196e-16, 1.5607156976773433e-15, 1.0079787005068397e-09, 6.499326991615817e-05, 1.2921555373000132e-14], [2.0735156134716954e-20, 1.8053586122395273e-15, 1.7024084914126977e-14, 1.0, 2.956377919978003e-16, 1.1622850459858114e-09, 1.2682233889989514e-16, 4.071856445227694e-14, 1.5124151930834273e-11, 8.620934695280358e-12], [1.4476447401527747e-15, 1.0, 7.760757267133867e-15, 5.143529817224159e-18, 3.5254985042421083e-10, 2.0263023030320237e-12, 5.466522789716443e-15, 3.999977432611601e-13, 5.073235126266951e-13, 5.5777656798872144e-11], [4.111336625752926e-18, 3.2644689174077257e-09, 4.681815373754061e-15, 1.886354406011037e-10, 1.358570894671729e-10, 8.756352865013639e-10, 6.038374552978787e-13, 3.776066915747722e-13, 1.0, 2.2286126665892886e-13], [1.658471651005954e-17, 8.742536745032974e-17, 2.629103000722724e-18, 1.048612574550134e-08, 1.5960248747615147e-11, 1.0, 1.434020172844542e-14, 6.145858127970527e-12, 3.8171050077092413e-16, 3.188259256603487e-08], [1.274136125292888e-21, 1.496923317079017e-15, 6.539641946368709e-18, 6.53001255591222e-20, 1.0, 1.84562438203301e-19, 1.2618016881186817e-14, 2.5313950629125663e-14, 1.1477747480340183e-15, 4.2615244015900555e-15], [4.578268875121694e-10, 3.035582862453732e-18, 4.2063484107081144e-17, 1.065398702800949e-18, 1.965545459817761e-15, 2.0393688907743845e-12, 1.0, 2.282390350368699e-20, 4.391811133513945e-12, 3.227601881514801e-19], [1.0452029820058098e-25, 4.020372039079564e-19, 3.4528204148461452e-18, 5.576601596944186e-20, 1.0, 1.2145909833144832e-17, 5.279259505793724e-19, 2.1862661691868929e-13, 5.076065173259487e-19, 9.721348125186311e-19], [8.62828891993149e-14, 1.8146495417425967e-09, 1.149723605209374e-08, 1.1875736163347028e-06, 1.8109716393155395e-06, 2.2255838061369104e-08, 4.09491695109801e-13, 0.9999687671661377, 1.0114152571016888e-10, 2.8281339837121777e-05], [9.133877083971893e-16, 6.536438057480609e-11, 2.9043113341058733e-16, 5.530813140808277e-08, 6.689892270372585e-21, 0.9999774694442749, 8.03412868053072e-15, 2.284795474934925e-20, 2.2534632080351003e-05, 3.178132670228484e-12], [4.8070592645332866e-12, 1.0159161923165017e-12, 1.2359927317739938e-11, 1.0932426164345088e-07, 2.923853230640816e-07, 5.521898216453991e-11, 5.779624283504259e-13, 1.1039932301670774e-09, 1.0729862879088614e-05, 0.9999889135360718], [7.830328871349005e-26, 1.3131777939080335e-14, 9.521014551305655e-16, 1.0, 5.512370893132473e-19, 1.3099708817687628e-10, 1.1949269772974371e-23, 2.290558936761492e-16, 1.1231016117108084e-12, 9.092374205973974e-14], [1.7471799424991288e-14, 1.0, 1.5659104221632525e-11, 4.986323314627843e-19, 1.4600498587924449e-09, 8.716813937326151e-09, 3.4940982399089826e-12, 8.927327627139547e-12, 3.0981571474963943e-12, 1.928232018499898e-10], [4.180192192393406e-08, 1.4285735687735723e-06, 3.529482273734175e-05, 3.5239171580769835e-08, 1.5381711529482978e-11, 1.5590485846761482e-10, 2.31229315209025e-12, 0.999962329864502, 9.501306408310484e-07, 4.6768985129119756e-08], [1.0, 4.891530990615333e-15, 3.603672265109492e-12, 1.27566287408073e-14, 1.716176164937369e-14, 1.4365104920611169e-15, 6.619246040173721e-09, 2.889061819638661e-12, 9.137577916540351e-10, 1.4393356298492144e-11], [2.9566241122047643e-10, 2.9264205281265276e-08, 2.6113241347047733e-07, 5.963260107932911e-09, 9.30014884548136e-11, 2.0113805640573773e-13, 7.996490275496981e-11, 0.9999926090240479, 3.958015859506503e-10, 7.182950412243372e-06], [7.175594562980336e-10, 1.627789991687223e-08, 1.0113266890598993e-09, 1.133990235047122e-08, 2.1711344743380323e-05, 1.2195957133087632e-08, 5.125491610996624e-12, 0.0015839401166886091, 1.7080824255000238e-10, 0.9983943104743958], [9.92880585826703e-16, 2.5461484286779575e-15, 1.0, 3.908853492620712e-13, 3.901114132464617e-17, 1.9946672065194923e-19, 6.4159432896159976e-18, 1.347559352516195e-13, 3.6051110013923804e-11, 1.7132865279196788e-16], [0.9999998807907104, 1.109661407899809e-12, 5.3978401609589e-11, 1.073152504360575e-11, 2.2804074600868418e-11, 5.080099752322043e-13, 1.2413435968028352e-07, 2.393735437731387e-13, 1.818689122912165e-11, 3.660334257915565e-10], [2.1435915651020487e-13, 1.2045151558299789e-15, 4.851656953811018e-20, 1.0463219179968064e-10, 4.897441930628408e-18, 1.0, 1.05250141935187e-09, 1.8370646436420318e-16, 4.372249229334102e-10, 2.3133068793868006e-08], [0.003808834357187152, 4.311285703439971e-12, 0.9961769580841064, 2.429791123859104e-08, 2.004770285055687e-15, 1.4084383110457566e-05, 2.8485805294437005e-12, 1.6330519159168944e-09, 7.008901548033464e-08, 2.6017272780620715e-09], [2.0581761121796216e-12, 2.761920379901195e-11, 1.190251563976119e-09, 2.1407586814348178e-10, 7.094585474654025e-10, 9.503278020203329e-14, 8.947921376555815e-15, 0.9999997615814209, 2.7355978593490704e-10, 2.0847794246492413e-07], [4.086229874364594e-16, 2.0270135396571742e-12, 4.437427369996527e-10, 8.100796942966948e-12, 9.163586773067167e-13, 1.72450561165496e-16, 1.9124678805660792e-17, 2.831090125787056e-13, 1.0, 3.396969927571547e-10], [2.3417837113903772e-11, 4.869949443708776e-10, 2.1839140738888485e-12, 2.1894831433999506e-11, 3.1058250442583812e-06, 9.44063837521325e-13, 4.3732714932048777e-13, 1.9977837092954864e-11, 3.327690833998531e-08, 0.9999969005584717], [7.299482995025635e-24, 8.233637556374637e-20, 4.6896298009322826e-21, 7.9186229129391e-08, 3.2024810363905477e-21, 0.9999998807907104, 1.1779894613004152e-18, 2.0341258413885914e-18, 4.317827020407228e-13, 8.657193295569243e-10], [1.5366014769972912e-17, 7.1733305059829e-12, 1.4918237340442488e-14, 0.9999972581863403, 2.1372537257775132e-13, 2.723720626818249e-06, 9.275390243194959e-15, 1.284378419591503e-13, 7.627186104919303e-10, 1.1700902399769397e-11], [1.0, 4.514950177414467e-20, 5.020668776556381e-12, 3.8654457074046363e-16, 4.757926081298823e-20, 9.451705650262654e-18, 4.243847894630504e-12, 4.6069452845133065e-15, 9.214677632041202e-13, 1.0931358249144374e-11], [1.0169051711805821e-10, 5.768700100938773e-11, 1.2697756734958432e-10, 3.4356460787421383e-07, 1.0249176085608269e-07, 2.656374853415855e-08, 7.782725744247265e-14, 1.2733932130970516e-08, 2.207728666547837e-09, 0.9999995231628418], [2.1764309104943536e-12, 2.6909900043392554e-05, 5.316985607350944e-06, 2.836183625731792e-07, 2.1832842378444184e-07, 4.42574206449553e-11, 3.005653947951714e-09, 0.9999672174453735, 3.045688501401855e-08, 3.315206953402594e-08], [6.325980333878425e-16, 5.345378545178192e-13, 1.4378730844866183e-11, 2.1011337201365388e-12, 1.621977990862221e-15, 1.071919923699774e-13, 3.3543900198050895e-15, 3.937459786835707e-17, 1.0, 2.42442177444957e-12]]\n",
      "[0 6 2 3 1 8 5 4 6 4 7 5 9 3 1 7 0 7 9 2 0 5 2 7 8 9 5 3 0 9 7 8]\n"
     ]
    }
   ],
   "source": [
    "model_restore_inference()"
   ]
  },
  {
   "cell_type": "code",
   "execution_count": 11,
   "metadata": {},
   "outputs": [],
   "source": [
    "unit = {}\n",
    "unit['first'] = y.tolist()\n",
    "import json\n",
    "with open (\"data15.json\", \"w\") as fp:\n",
    "    fp.write(json.dumps(unit, indent=4))"
   ]
  }
 ],
 "metadata": {
  "kernelspec": {
   "display_name": "Python 3",
   "language": "python",
   "name": "python3"
  },
  "language_info": {
   "codemirror_mode": {
    "name": "ipython",
    "version": 3
   },
   "file_extension": ".py",
   "mimetype": "text/x-python",
   "name": "python",
   "nbconvert_exporter": "python",
   "pygments_lexer": "ipython3",
   "version": "3.7.5"
  }
 },
 "nbformat": 4,
 "nbformat_minor": 2
}
