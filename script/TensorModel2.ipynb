{
 "cells": [
  {
   "cell_type": "code",
   "execution_count": 1,
   "metadata": {},
   "outputs": [],
   "source": [
    "import tensorflow as tf\n",
    "from tensorflow.examples.tutorials.mnist import input_data"
   ]
  },
  {
   "cell_type": "code",
   "execution_count": 2,
   "metadata": {},
   "outputs": [],
   "source": [
    "CKPT_DIR = 'new_ckpt_dir_2'"
   ]
  },
  {
   "cell_type": "code",
   "execution_count": 3,
   "metadata": {},
   "outputs": [],
   "source": [
    "class Network2(object):\n",
    "    \n",
    "    def __init__(self):\n",
    "        self.global_step = tf.Variable(0,trainable = False)\n",
    "        self.XX = tf.placeholder(tf.float32, [None, 784], name = \"x_input\")\n",
    "        self.label = tf.placeholder(tf.float32, [None, 10], name = \"y_input\")\n",
    "        self.W1 = tf.Variable(tf.truncated_normal([784, 200], stddev=0.1))\n",
    "        self.B1 = tf.Variable(tf.zeros([200]))\n",
    "        self.W2 = tf.Variable(tf.truncated_normal([200, 100], stddev=0.1))\n",
    "        self.B2 = tf.Variable(tf.zeros([100]))\n",
    "        self.W3 = tf.Variable(tf.truncated_normal([100, 60], stddev=0.1))\n",
    "        self.B3 = tf.Variable(tf.zeros([60]))\n",
    "        self.W4 = tf.Variable(tf.truncated_normal([60, 30], stddev=0.1))\n",
    "        self.B4 = tf.Variable(tf.zeros([30]))\n",
    "        self.W5 = tf.Variable(tf.truncated_normal([30, 10], stddev=0.1))\n",
    "        self.B5 = tf.Variable(tf.zeros([10]))\n",
    "        self.Y1 = tf.nn.sigmoid(tf.matmul(self.XX, self.W1) + self.B1)\n",
    "        self.Y2 = tf.nn.sigmoid(tf.matmul(self.Y1, self.W2) + self.B2)\n",
    "        self.Y3 = tf.nn.sigmoid(tf.matmul(self.Y2, self.W3) + self.B3)\n",
    "        self.Y4 = tf.nn.sigmoid(tf.matmul(self.Y3, self.W4) + self.B4)\n",
    "        self.Ylogits = tf.matmul(self.Y4, self.W5) + self.B5\n",
    "        self.Y = tf.nn.softmax(self.Ylogits, name = \"z_output\")\n",
    "        self.cross_entropy = tf.nn.softmax_cross_entropy_with_logits(logits = self.Ylogits, labels = self.label)\n",
    "        self.loss = tf.reduce_mean(self.cross_entropy)*100\n",
    "        self.predict = tf.equal(tf.argmax(self.Y, 1), tf.argmax(self.label, 1))\n",
    "        self.accuracy = tf.reduce_mean(tf.cast(self.predict, tf.float32))\n",
    "        self.train = tf.train.AdamOptimizer(0.003).minimize(self.loss, global_step = self.global_step)"
   ]
  },
  {
   "cell_type": "code",
   "execution_count": 4,
   "metadata": {},
   "outputs": [],
   "source": [
    "class Train(object):\n",
    "    \n",
    "    def __init__(self):\n",
    "        self.net = Network2()\n",
    "        self.sess = tf.Session()\n",
    "        self.sess.run(tf.global_variables_initializer())\n",
    "        self.data = input_data.read_data_sets('./dataset',one_hot = True)\n",
    "        \n",
    "    def train(self):\n",
    "        batch_size = 64\n",
    "        train_step = 10000\n",
    "        step = 0\n",
    "        #Save Model every 1000 steps\n",
    "        save_interval = 1000\n",
    "        saver = tf.train.Saver(max_to_keep = 10)\n",
    "        ckpt = tf.train.get_checkpoint_state(CKPT_DIR)\n",
    "        if ckpt and ckpt.get_checkpoint_state(CKPT_DIR):\n",
    "            saver.restore(self.sess,ckpt.model_checkpoint_path)\n",
    "            step = self.sess.run(self.net.global_step)\n",
    "            print('continue from')\n",
    "            print('  -> Minibatch update : ',step)\n",
    "        while step < train_step:\n",
    "            x,label = self.data.train.next_batch(batch_size)\n",
    "            _,loss = self.sess.run([self.net.train,self.net.loss], feed_dict = {self.net.XX: x,self.net.label:label})\n",
    "            step = self.sess.run(self.net.global_step)\n",
    "            if step % 1000 == 0:\n",
    "                print('No %6d step, current loss: %.3f'%(step,loss))\n",
    "            if step % save_interval == 0:\n",
    "                saver.save(self.sess,CKPT_DIR + '/model',global_step = step)\n",
    "    \n",
    "    def calculate_accuracy(self):\n",
    "        test_x = self.data.test.images\n",
    "        test_label = self.data.test.labels\n",
    "        acc = self.sess.run(self.net.accuracy,feed_dict = {self.net.XX:test_x,self.net.label:test_label})\n",
    "        print(\"acc: %.3f, Number of pic test: %d \" % (acc, len(test_label)))"
   ]
  },
  {
   "cell_type": "code",
   "execution_count": 5,
   "metadata": {},
   "outputs": [
    {
     "name": "stdout",
     "output_type": "stream",
     "text": [
      "WARNING:tensorflow:From <ipython-input-3-71e449d10e45>:23: softmax_cross_entropy_with_logits (from tensorflow.python.ops.nn_ops) is deprecated and will be removed in a future version.\n",
      "Instructions for updating:\n",
      "\n",
      "Future major versions of TensorFlow will allow gradients to flow\n",
      "into the labels input on backprop by default.\n",
      "\n",
      "See `tf.nn.softmax_cross_entropy_with_logits_v2`.\n",
      "\n",
      "WARNING:tensorflow:From <ipython-input-4-774bd1c5c5e1>:7: read_data_sets (from tensorflow.contrib.learn.python.learn.datasets.mnist) is deprecated and will be removed in a future version.\n",
      "Instructions for updating:\n",
      "Please use alternatives such as official/mnist/dataset.py from tensorflow/models.\n",
      "WARNING:tensorflow:From /home/linbin/.local/lib/python2.7/site-packages/tensorflow/contrib/learn/python/learn/datasets/mnist.py:260: maybe_download (from tensorflow.contrib.learn.python.learn.datasets.base) is deprecated and will be removed in a future version.\n",
      "Instructions for updating:\n",
      "Please write your own downloading logic.\n",
      "WARNING:tensorflow:From /home/linbin/.local/lib/python2.7/site-packages/tensorflow/contrib/learn/python/learn/datasets/base.py:252: wrapped_fn (from tensorflow.contrib.learn.python.learn.datasets.base) is deprecated and will be removed in a future version.\n",
      "Instructions for updating:\n",
      "Please use urllib or similar directly.\n",
      "Successfully downloaded train-images-idx3-ubyte.gz 9912422 bytes.\n",
      "WARNING:tensorflow:From /home/linbin/.local/lib/python2.7/site-packages/tensorflow/contrib/learn/python/learn/datasets/mnist.py:262: extract_images (from tensorflow.contrib.learn.python.learn.datasets.mnist) is deprecated and will be removed in a future version.\n",
      "Instructions for updating:\n",
      "Please use tf.data to implement this functionality.\n",
      "Extracting ./dataset/train-images-idx3-ubyte.gz\n",
      "Successfully downloaded train-labels-idx1-ubyte.gz 28881 bytes.\n",
      "WARNING:tensorflow:From /home/linbin/.local/lib/python2.7/site-packages/tensorflow/contrib/learn/python/learn/datasets/mnist.py:267: extract_labels (from tensorflow.contrib.learn.python.learn.datasets.mnist) is deprecated and will be removed in a future version.\n",
      "Instructions for updating:\n",
      "Please use tf.data to implement this functionality.\n",
      "Extracting ./dataset/train-labels-idx1-ubyte.gz\n",
      "WARNING:tensorflow:From /home/linbin/.local/lib/python2.7/site-packages/tensorflow/contrib/learn/python/learn/datasets/mnist.py:110: dense_to_one_hot (from tensorflow.contrib.learn.python.learn.datasets.mnist) is deprecated and will be removed in a future version.\n",
      "Instructions for updating:\n",
      "Please use tf.one_hot on tensors.\n",
      "Successfully downloaded t10k-images-idx3-ubyte.gz 1648877 bytes.\n",
      "Extracting ./dataset/t10k-images-idx3-ubyte.gz\n",
      "Successfully downloaded t10k-labels-idx1-ubyte.gz 4542 bytes.\n",
      "Extracting ./dataset/t10k-labels-idx1-ubyte.gz\n",
      "WARNING:tensorflow:From /home/linbin/.local/lib/python2.7/site-packages/tensorflow/contrib/learn/python/learn/datasets/mnist.py:290: __init__ (from tensorflow.contrib.learn.python.learn.datasets.mnist) is deprecated and will be removed in a future version.\n",
      "Instructions for updating:\n",
      "Please use alternatives such as official/mnist/dataset.py from tensorflow/models.\n",
      "No   1000 step, current loss: 26.643\n",
      "No   2000 step, current loss: 18.546\n",
      "No   3000 step, current loss: 1.873\n",
      "No   4000 step, current loss: 3.620\n",
      "No   5000 step, current loss: 9.530\n",
      "No   6000 step, current loss: 2.989\n",
      "No   7000 step, current loss: 3.474\n",
      "No   8000 step, current loss: 0.133\n",
      "No   9000 step, current loss: 0.739\n",
      "No  10000 step, current loss: 12.783\n",
      "acc: 0.973, Number of pic test: 10000 \n"
     ]
    }
   ],
   "source": [
    "if __name__ == '__main__':\n",
    "    model = Train()\n",
    "    model.train()\n",
    "    model.calculate_accuracy()"
   ]
  }
 ],
 "metadata": {
  "kernelspec": {
   "display_name": "Python 2",
   "language": "python",
   "name": "python2"
  },
  "language_info": {
   "codemirror_mode": {
    "name": "ipython",
    "version": 2
   },
   "file_extension": ".py",
   "mimetype": "text/x-python",
   "name": "python",
   "nbconvert_exporter": "python",
   "pygments_lexer": "ipython2",
   "version": "2.7.16"
  }
 },
 "nbformat": 4,
 "nbformat_minor": 2
}
