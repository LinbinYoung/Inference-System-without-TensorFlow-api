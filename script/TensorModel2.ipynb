{
 "cells": [
  {
   "cell_type": "code",
   "execution_count": 1,
   "metadata": {},
   "outputs": [
    {
     "name": "stderr",
     "output_type": "stream",
     "text": [
      "/Users/linbinyang/opt/anaconda3/envs/tensorflow/lib/python3.7/site-packages/tensorflow/python/framework/dtypes.py:516: FutureWarning: Passing (type, 1) or '1type' as a synonym of type is deprecated; in a future version of numpy, it will be understood as (type, (1,)) / '(1,)type'.\n",
      "  _np_qint8 = np.dtype([(\"qint8\", np.int8, 1)])\n",
      "/Users/linbinyang/opt/anaconda3/envs/tensorflow/lib/python3.7/site-packages/tensorflow/python/framework/dtypes.py:517: FutureWarning: Passing (type, 1) or '1type' as a synonym of type is deprecated; in a future version of numpy, it will be understood as (type, (1,)) / '(1,)type'.\n",
      "  _np_quint8 = np.dtype([(\"quint8\", np.uint8, 1)])\n",
      "/Users/linbinyang/opt/anaconda3/envs/tensorflow/lib/python3.7/site-packages/tensorflow/python/framework/dtypes.py:518: FutureWarning: Passing (type, 1) or '1type' as a synonym of type is deprecated; in a future version of numpy, it will be understood as (type, (1,)) / '(1,)type'.\n",
      "  _np_qint16 = np.dtype([(\"qint16\", np.int16, 1)])\n",
      "/Users/linbinyang/opt/anaconda3/envs/tensorflow/lib/python3.7/site-packages/tensorflow/python/framework/dtypes.py:519: FutureWarning: Passing (type, 1) or '1type' as a synonym of type is deprecated; in a future version of numpy, it will be understood as (type, (1,)) / '(1,)type'.\n",
      "  _np_quint16 = np.dtype([(\"quint16\", np.uint16, 1)])\n",
      "/Users/linbinyang/opt/anaconda3/envs/tensorflow/lib/python3.7/site-packages/tensorflow/python/framework/dtypes.py:520: FutureWarning: Passing (type, 1) or '1type' as a synonym of type is deprecated; in a future version of numpy, it will be understood as (type, (1,)) / '(1,)type'.\n",
      "  _np_qint32 = np.dtype([(\"qint32\", np.int32, 1)])\n",
      "/Users/linbinyang/opt/anaconda3/envs/tensorflow/lib/python3.7/site-packages/tensorflow/python/framework/dtypes.py:525: FutureWarning: Passing (type, 1) or '1type' as a synonym of type is deprecated; in a future version of numpy, it will be understood as (type, (1,)) / '(1,)type'.\n",
      "  np_resource = np.dtype([(\"resource\", np.ubyte, 1)])\n",
      "/Users/linbinyang/opt/anaconda3/envs/tensorflow/lib/python3.7/site-packages/tensorboard/compat/tensorflow_stub/dtypes.py:541: FutureWarning: Passing (type, 1) or '1type' as a synonym of type is deprecated; in a future version of numpy, it will be understood as (type, (1,)) / '(1,)type'.\n",
      "  _np_qint8 = np.dtype([(\"qint8\", np.int8, 1)])\n",
      "/Users/linbinyang/opt/anaconda3/envs/tensorflow/lib/python3.7/site-packages/tensorboard/compat/tensorflow_stub/dtypes.py:542: FutureWarning: Passing (type, 1) or '1type' as a synonym of type is deprecated; in a future version of numpy, it will be understood as (type, (1,)) / '(1,)type'.\n",
      "  _np_quint8 = np.dtype([(\"quint8\", np.uint8, 1)])\n",
      "/Users/linbinyang/opt/anaconda3/envs/tensorflow/lib/python3.7/site-packages/tensorboard/compat/tensorflow_stub/dtypes.py:543: FutureWarning: Passing (type, 1) or '1type' as a synonym of type is deprecated; in a future version of numpy, it will be understood as (type, (1,)) / '(1,)type'.\n",
      "  _np_qint16 = np.dtype([(\"qint16\", np.int16, 1)])\n",
      "/Users/linbinyang/opt/anaconda3/envs/tensorflow/lib/python3.7/site-packages/tensorboard/compat/tensorflow_stub/dtypes.py:544: FutureWarning: Passing (type, 1) or '1type' as a synonym of type is deprecated; in a future version of numpy, it will be understood as (type, (1,)) / '(1,)type'.\n",
      "  _np_quint16 = np.dtype([(\"quint16\", np.uint16, 1)])\n",
      "/Users/linbinyang/opt/anaconda3/envs/tensorflow/lib/python3.7/site-packages/tensorboard/compat/tensorflow_stub/dtypes.py:545: FutureWarning: Passing (type, 1) or '1type' as a synonym of type is deprecated; in a future version of numpy, it will be understood as (type, (1,)) / '(1,)type'.\n",
      "  _np_qint32 = np.dtype([(\"qint32\", np.int32, 1)])\n",
      "/Users/linbinyang/opt/anaconda3/envs/tensorflow/lib/python3.7/site-packages/tensorboard/compat/tensorflow_stub/dtypes.py:550: FutureWarning: Passing (type, 1) or '1type' as a synonym of type is deprecated; in a future version of numpy, it will be understood as (type, (1,)) / '(1,)type'.\n",
      "  np_resource = np.dtype([(\"resource\", np.ubyte, 1)])\n"
     ]
    }
   ],
   "source": [
    "from tensorflow.contrib.learn.python.learn.datasets.mnist import read_data_sets\n",
    "import tensorflow as tf"
   ]
  },
  {
   "cell_type": "code",
   "execution_count": 2,
   "metadata": {},
   "outputs": [
    {
     "name": "stdout",
     "output_type": "stream",
     "text": [
      "WARNING:tensorflow:From <ipython-input-2-b29b0e83318f>:1: read_data_sets (from tensorflow.contrib.learn.python.learn.datasets.mnist) is deprecated and will be removed in a future version.\n",
      "Instructions for updating:\n",
      "Please use alternatives such as official/mnist/dataset.py from tensorflow/models.\n",
      "WARNING:tensorflow:From /Users/linbinyang/opt/anaconda3/envs/tensorflow/lib/python3.7/site-packages/tensorflow/contrib/learn/python/learn/datasets/mnist.py:260: maybe_download (from tensorflow.contrib.learn.python.learn.datasets.base) is deprecated and will be removed in a future version.\n",
      "Instructions for updating:\n",
      "Please write your own downloading logic.\n",
      "WARNING:tensorflow:From /Users/linbinyang/opt/anaconda3/envs/tensorflow/lib/python3.7/site-packages/tensorflow/contrib/learn/python/learn/datasets/mnist.py:262: extract_images (from tensorflow.contrib.learn.python.learn.datasets.mnist) is deprecated and will be removed in a future version.\n",
      "Instructions for updating:\n",
      "Please use tf.data to implement this functionality.\n",
      "Extracting ./dataset/train-images-idx3-ubyte.gz\n",
      "WARNING:tensorflow:From /Users/linbinyang/opt/anaconda3/envs/tensorflow/lib/python3.7/site-packages/tensorflow/contrib/learn/python/learn/datasets/mnist.py:267: extract_labels (from tensorflow.contrib.learn.python.learn.datasets.mnist) is deprecated and will be removed in a future version.\n",
      "Instructions for updating:\n",
      "Please use tf.data to implement this functionality.\n",
      "Extracting ./dataset/train-labels-idx1-ubyte.gz\n",
      "WARNING:tensorflow:From /Users/linbinyang/opt/anaconda3/envs/tensorflow/lib/python3.7/site-packages/tensorflow/contrib/learn/python/learn/datasets/mnist.py:110: dense_to_one_hot (from tensorflow.contrib.learn.python.learn.datasets.mnist) is deprecated and will be removed in a future version.\n",
      "Instructions for updating:\n",
      "Please use tf.one_hot on tensors.\n",
      "Extracting ./dataset/t10k-images-idx3-ubyte.gz\n",
      "Extracting ./dataset/t10k-labels-idx1-ubyte.gz\n",
      "WARNING:tensorflow:From /Users/linbinyang/opt/anaconda3/envs/tensorflow/lib/python3.7/site-packages/tensorflow/contrib/learn/python/learn/datasets/mnist.py:290: DataSet.__init__ (from tensorflow.contrib.learn.python.learn.datasets.mnist) is deprecated and will be removed in a future version.\n",
      "Instructions for updating:\n",
      "Please use alternatives such as official/mnist/dataset.py from tensorflow/models.\n"
     ]
    }
   ],
   "source": [
    "mnist = read_data_sets(\"./dataset\", one_hot=True, reshape=False, validation_size=0)"
   ]
  },
  {
   "cell_type": "code",
   "execution_count": 4,
   "metadata": {},
   "outputs": [],
   "source": [
    "CKPT_DIR = 'new_ckpt_dir_2'"
   ]
  },
  {
   "cell_type": "code",
   "execution_count": 5,
   "metadata": {},
   "outputs": [],
   "source": [
    "class Network2(object):\n",
    "    \n",
    "    def __init__(self):\n",
    "        self.global_step = tf.Variable(0,trainable = False)\n",
    "        self.x = tf.placeholder(tf.float32, [None, 28, 28, 1], name = \"x_input\")\n",
    "        self.label = tf.placeholder(tf.float32, [None, 10], name = \"y_input\")\n",
    "        self.W1 = tf.Variable(tf.truncated_normal([784, 200], stddev=0.1))\n",
    "        self.B1 = tf.Variable(tf.zeros([200]))\n",
    "        self.W2 = tf.Variable(tf.truncated_normal([200, 100], stddev=0.1))\n",
    "        self.B2 = tf.Variable(tf.zeros([100]))\n",
    "        self.W3 = tf.Variable(tf.truncated_normal([100, 60], stddev=0.1))\n",
    "        self.B3 = tf.Variable(tf.zeros([60]))\n",
    "        self.W4 = tf.Variable(tf.truncated_normal([60, 30], stddev=0.1))\n",
    "        self.B4 = tf.Variable(tf.zeros([30]))\n",
    "        self.W5 = tf.Variable(tf.truncated_normal([30, 10], stddev=0.1))\n",
    "        self.B5 = tf.Variable(tf.zeros([10]))\n",
    "        self.XX = tf.reshape(self.x, shape=[-1, 784])\n",
    "        self.Y1 = tf.nn.sigmoid(tf.matmul(self.XX, self.W1) + self.B1)\n",
    "        self.Y2 = tf.nn.sigmoid(tf.matmul(self.Y1, self.W2) + self.B2)\n",
    "        self.Y3 = tf.nn.sigmoid(tf.matmul(self.Y2, self.W3) + self.B3)\n",
    "        self.Y4 = tf.nn.sigmoid(tf.matmul(self.Y3, self.W4) + self.B4)\n",
    "        self.Ylogits = tf.matmul(self.Y4, self.W5) + self.B5\n",
    "        self.Y = tf.nn.softmax(self.Ylogits, name = \"z_output\")\n",
    "        self.cross_entropy = tf.nn.softmax_cross_entropy_with_logits(logits = self.Ylogits, labels = self.label)\n",
    "        self.loss = tf.reduce_mean(self.cross_entropy)*100\n",
    "        self.predict = tf.equal(tf.argmax(self.Y, 1), tf.argmax(self.label, 1))\n",
    "        self.accuracy = tf.reduce_mean(tf.cast(self.predict, tf.float32))\n",
    "        self.train = tf.train.AdamOptimizer(0.003).minimize(self.loss, global_step = self.global_step)"
   ]
  },
  {
   "cell_type": "code",
   "execution_count": 6,
   "metadata": {},
   "outputs": [],
   "source": [
    "class Train(object):\n",
    "    \n",
    "    def __init__(self):\n",
    "        self.net = Network2()\n",
    "        self.sess = tf.Session()\n",
    "        self.sess.run(tf.global_variables_initializer())\n",
    "        \n",
    "    def train(self):\n",
    "        batch_size = 64\n",
    "        train_step = 10000\n",
    "        step = 0\n",
    "        # Save Model every 1000 steps\n",
    "        save_interval = 10000\n",
    "        saver = tf.train.Saver(max_to_keep = 0)\n",
    "        ckpt = tf.train.get_checkpoint_state(CKPT_DIR)\n",
    "        # Get the current checkpoint state\n",
    "        if ckpt and ckpt.get_checkpoint_state(CKPT_DIR):\n",
    "            saver.restore(self.sess,ckpt.model_checkpoint_path)\n",
    "            step = self.sess.run(self.net.global_step)\n",
    "            print('continue from')\n",
    "            print('  -> Minibatch update : ',step)\n",
    "        while step < train_step:\n",
    "            x,label = mnist.train.next_batch(batch_size)\n",
    "            _,loss = self.sess.run([self.net.train,self.net.loss], feed_dict = {self.net.x: x,self.net.label:label})\n",
    "            step = self.sess.run(self.net.global_step)\n",
    "            if step % 1000 == 0:\n",
    "                print('No %6d step, current loss: %.3f'%(step,loss))\n",
    "            if step % save_interval == 0:\n",
    "                saver.save(self.sess,CKPT_DIR + '/model',global_step = step)\n",
    "    \n",
    "    def calculate_accuracy(self):\n",
    "        test_x = mnist.test.images\n",
    "        test_label = mnist.test.labels\n",
    "        acc = self.sess.run(self.net.accuracy,feed_dict = {self.net.x:test_x,self.net.label:test_label})\n",
    "        print(\"acc: %.3f, Number of pic test: %d \" % (acc, len(test_label)))"
   ]
  },
  {
   "cell_type": "code",
   "execution_count": 7,
   "metadata": {},
   "outputs": [
    {
     "name": "stdout",
     "output_type": "stream",
     "text": [
      "WARNING:tensorflow:From <ipython-input-5-56e66e12ff70>:24: softmax_cross_entropy_with_logits (from tensorflow.python.ops.nn_ops) is deprecated and will be removed in a future version.\n",
      "Instructions for updating:\n",
      "\n",
      "Future major versions of TensorFlow will allow gradients to flow\n",
      "into the labels input on backprop by default.\n",
      "\n",
      "See `tf.nn.softmax_cross_entropy_with_logits_v2`.\n",
      "\n",
      "No   1000 step, current loss: 22.411\n",
      "No   2000 step, current loss: 11.512\n",
      "No   3000 step, current loss: 7.652\n",
      "No   4000 step, current loss: 16.620\n",
      "No   5000 step, current loss: 0.992\n",
      "No   6000 step, current loss: 1.078\n",
      "No   7000 step, current loss: 0.408\n",
      "No   8000 step, current loss: 0.187\n",
      "No   9000 step, current loss: 1.735\n",
      "No  10000 step, current loss: 0.893\n",
      "INFO:tensorflow:new_ckpt_dir_2/model-10000 is not in all_model_checkpoint_paths. Manually adding it.\n",
      "acc: 0.971, Number of pic test: 10000 \n"
     ]
    }
   ],
   "source": [
    "if __name__ == '__main__':\n",
    "    model = Train()\n",
    "    model.train()\n",
    "    model.calculate_accuracy()"
   ]
  },
  {
   "cell_type": "code",
   "execution_count": 8,
   "metadata": {},
   "outputs": [],
   "source": [
    "import numpy as np\n",
    "x, label = mnist.train.next_batch(32)"
   ]
  },
  {
   "cell_type": "code",
   "execution_count": 14,
   "metadata": {},
   "outputs": [],
   "source": [
    "y, y_label = mnist.train.next_batch(32)"
   ]
  },
  {
   "cell_type": "code",
   "execution_count": 9,
   "metadata": {},
   "outputs": [
    {
     "name": "stdout",
     "output_type": "stream",
     "text": [
      "(32, 28, 28, 1)\n"
     ]
    }
   ],
   "source": [
    "print (x.shape)"
   ]
  },
  {
   "cell_type": "code",
   "execution_count": 15,
   "metadata": {},
   "outputs": [],
   "source": [
    "def model_restore_inference():\n",
    "    sess = tf.Session()\n",
    "    saver = tf.train.import_meta_graph('./new_ckpt_dir_2/model-10000.meta')\n",
    "    saver.restore(sess, tf.train.latest_checkpoint('./new_ckpt_dir_2'))\n",
    "    input_x = sess.graph.get_tensor_by_name('x_input:0')\n",
    "    logits = sess.graph.get_tensor_by_name('z_output:0')\n",
    "    ret = sess.run(logits, {input_x:y})\n",
    "    print (ret)\n",
    "    print(np.argmax(ret, axis=1))"
   ]
  },
  {
   "cell_type": "code",
   "execution_count": 16,
   "metadata": {},
   "outputs": [
    {
     "name": "stdout",
     "output_type": "stream",
     "text": [
      "INFO:tensorflow:Restoring parameters from ./new_ckpt_dir_2/model-10000\n",
      "[[9.99512076e-01 1.43652007e-10 5.55553997e-05 3.34410197e-06\n",
      "  3.36648664e-05 1.97146481e-04 7.46441947e-05 1.39869928e-06\n",
      "  1.32878649e-05 1.08808716e-04]\n",
      " [1.16671082e-02 4.47157217e-04 2.28046142e-02 3.04504007e-01\n",
      "  1.30674758e-04 4.29497510e-02 6.48575733e-05 1.34115387e-03\n",
      "  6.04988456e-01 1.11022070e-02]\n",
      " [1.47721346e-06 1.41877157e-04 1.25038612e-04 2.14566709e-04\n",
      "  5.28450546e-05 1.30520064e-07 4.88322138e-09 9.98675287e-01\n",
      "  5.38245695e-05 7.34864676e-04]\n",
      " [5.74654905e-06 2.90410426e-05 2.29853839e-07 2.47567550e-05\n",
      "  3.36631318e-04 2.65765902e-05 6.61579591e-08 3.38238751e-04\n",
      "  7.66587036e-04 9.98472154e-01]\n",
      " [7.10222002e-06 1.07815104e-05 2.24398207e-07 1.01285514e-05\n",
      "  3.25616420e-04 1.72652017e-05 3.87417245e-08 2.57099076e-04\n",
      "  2.10205282e-04 9.99161482e-01]\n",
      " [4.19006210e-06 1.43181547e-04 5.57044541e-06 3.50100105e-04\n",
      "  5.07728646e-06 5.67332063e-05 9.19283480e-07 4.59498460e-06\n",
      "  9.99266207e-01 1.63462464e-04]\n",
      " [1.30778676e-06 1.64752186e-04 1.84546254e-04 9.97754753e-01\n",
      "  4.03409430e-08 5.16540422e-05 1.06706883e-08 1.40509312e-03\n",
      "  1.04930397e-04 3.32977128e-04]\n",
      " [9.98875201e-01 8.25818358e-10 1.78238115e-04 7.14243470e-06\n",
      "  1.64065248e-04 1.75698180e-04 5.79066837e-05 6.40404915e-06\n",
      "  2.37591448e-05 5.11649647e-04]\n",
      " [8.28578504e-06 2.24819916e-04 1.69050945e-05 1.13111259e-04\n",
      "  1.17430536e-05 3.26704649e-05 2.77534264e-06 2.50529570e-06\n",
      "  9.99535203e-01 5.19659916e-05]\n",
      " [9.99508858e-01 1.41339745e-10 5.47308591e-05 3.33617231e-06\n",
      "  3.17540398e-05 2.10122613e-04 8.08558034e-05 1.28951285e-06\n",
      "  1.14346694e-05 9.75654257e-05]\n",
      " [2.20000147e-05 2.05687655e-07 1.20595598e-06 3.37659265e-04\n",
      "  3.26957625e-08 9.99442041e-01 3.17589402e-05 3.63564077e-08\n",
      "  1.22636615e-04 4.23785641e-05]\n",
      " [9.82387282e-05 3.26480775e-04 2.72790494e-05 4.15874268e-08\n",
      "  9.77744877e-01 7.27529005e-06 6.02004693e-05 2.73764308e-04\n",
      "  1.38269796e-04 2.13235226e-02]\n",
      " [1.40560417e-06 1.32709101e-04 4.84371179e-04 9.98885691e-01\n",
      "  2.86487083e-08 8.84845431e-05 1.99666328e-08 1.14577851e-04\n",
      "  2.67803756e-04 2.49331370e-05]\n",
      " [3.91631261e-07 5.66784583e-05 3.67373759e-05 9.99370635e-01\n",
      "  3.95789534e-09 4.31555382e-04 5.68107410e-08 1.83082029e-05\n",
      "  7.35228023e-05 1.21487628e-05]\n",
      " [1.25946217e-05 3.23067439e-07 8.70738688e-07 2.93426827e-04\n",
      "  3.32916841e-08 9.99483466e-01 4.23291021e-05 2.97462623e-08\n",
      "  1.25688908e-04 4.11600158e-05]\n",
      " [1.54833087e-05 1.91239407e-04 9.99653459e-01 4.68884791e-05\n",
      "  1.92238804e-05 2.88541264e-06 2.07981448e-05 2.38053144e-05\n",
      "  2.48599281e-05 1.39530641e-06]\n",
      " [9.32182156e-05 2.70884516e-06 6.20091378e-05 9.60075894e-08\n",
      "  2.39546105e-04 3.64864682e-05 9.99551594e-01 3.25462338e-07\n",
      "  1.27874637e-05 1.25240149e-06]\n",
      " [5.78976360e-05 7.67138990e-05 2.12688410e-05 5.60364066e-09\n",
      "  9.98050690e-01 9.99926328e-07 7.65788209e-05 7.61767515e-05\n",
      "  2.89823674e-05 1.61078433e-03]\n",
      " [8.06694607e-06 4.73541240e-06 1.45886418e-07 5.26853592e-06\n",
      "  2.46431882e-04 2.45436604e-05 4.56446649e-08 9.00366067e-05\n",
      "  1.30871485e-04 9.99489903e-01]\n",
      " [6.88323598e-06 5.54588099e-04 2.19955700e-06 5.18154011e-05\n",
      "  2.87900283e-03 7.93242998e-06 1.40742031e-07 4.90165967e-03\n",
      "  1.87137525e-03 9.89724398e-01]\n",
      " [5.05540702e-05 8.25409879e-05 9.99649525e-01 3.75706368e-05\n",
      "  2.43145187e-05 4.94946107e-06 1.03386825e-04 3.05659814e-05\n",
      "  1.53782366e-05 1.18084961e-06]\n",
      " [7.79524489e-05 8.42022637e-05 3.01446289e-05 2.89170624e-04\n",
      "  6.36705881e-05 7.70377374e-05 2.49579170e-06 2.13918320e-05\n",
      "  9.98459220e-01 8.94751400e-04]\n",
      " [1.24809385e-05 3.11034702e-04 9.99503613e-01 6.66930064e-05\n",
      "  1.73849239e-05 2.93688026e-06 2.12752184e-05 2.67703399e-05\n",
      "  3.60545346e-05 1.64046708e-06]\n",
      " [9.99159813e-01 4.40147863e-10 9.83468417e-05 5.53021391e-06\n",
      "  9.27794536e-05 2.30300691e-04 5.92896686e-05 3.67753137e-06\n",
      "  1.36791632e-05 3.36588913e-04]\n",
      " [9.99509215e-01 1.31981107e-10 5.14223066e-05 3.49234097e-06\n",
      "  3.01404361e-05 2.15418462e-04 6.93813708e-05 1.35977302e-06\n",
      "  1.15813955e-05 1.07868720e-04]\n",
      " [9.99514937e-01 1.30114489e-10 4.99739544e-05 3.35392315e-06\n",
      "  3.08309864e-05 2.13901731e-04 6.87510255e-05 1.34067454e-06\n",
      "  1.09110733e-05 1.06033949e-04]\n",
      " [3.60287504e-06 1.71959051e-04 7.00506780e-06 1.98081718e-04\n",
      "  4.78215543e-06 3.63946892e-05 1.17896639e-06 2.73472961e-06\n",
      "  9.99503016e-01 7.12462643e-05]\n",
      " [9.56505464e-05 1.57377315e-06 9.28266818e-05 3.50444829e-08\n",
      "  3.30831157e-04 1.03262009e-05 9.99463499e-01 4.75682015e-07\n",
      "  3.85484964e-06 8.67649305e-07]\n",
      " [2.56098047e-05 1.95076296e-04 9.99542594e-01 6.93712427e-05\n",
      "  1.28606544e-05 6.42869918e-06 6.75459887e-05 2.26412812e-05\n",
      "  5.68598989e-05 1.02388719e-06]\n",
      " [4.30613636e-06 2.26284697e-04 1.21631019e-03 2.59383989e-04\n",
      "  8.90653537e-05 9.18684435e-08 3.09530819e-08 9.97867227e-01\n",
      "  4.63526740e-05 2.90943804e-04]\n",
      " [2.16068045e-04 5.02620777e-03 6.49156272e-01 3.75915843e-04\n",
      "  1.22520877e-02 9.82823565e-08 4.72303618e-05 3.32531422e-01\n",
      "  2.13007705e-04 1.81770272e-04]\n",
      " [9.71255660e-01 3.16458312e-07 3.20164254e-03 1.56712194e-05\n",
      "  9.76930652e-03 1.14396925e-03 1.15820095e-02 7.70529150e-05\n",
      "  4.43950092e-04 2.51044938e-03]]\n",
      "[0 8 7 9 9 8 3 0 8 0 5 4 3 3 5 2 6 4 9 9 2 8 2 0 0 0 8 6 2 7 2 0]\n"
     ]
    }
   ],
   "source": [
    "model_restore_inference()"
   ]
  },
  {
   "cell_type": "code",
   "execution_count": 17,
   "metadata": {},
   "outputs": [],
   "source": [
    "unit = {}\n",
    "unit['first'] = y.tolist()\n",
    "import json\n",
    "with open (\"data3.json\", \"w\") as fp:\n",
    "    fp.write(json.dumps(unit, indent=4))"
   ]
  }
 ],
 "metadata": {
  "kernelspec": {
   "display_name": "Python 3",
   "language": "python",
   "name": "python3"
  },
  "language_info": {
   "codemirror_mode": {
    "name": "ipython",
    "version": 3
   },
   "file_extension": ".py",
   "mimetype": "text/x-python",
   "name": "python",
   "nbconvert_exporter": "python",
   "pygments_lexer": "ipython3",
   "version": "3.7.5"
  }
 },
 "nbformat": 4,
 "nbformat_minor": 2
}
